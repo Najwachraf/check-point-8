{
 "cells": [
  {
   "cell_type": "code",
   "execution_count": 68,
   "id": "e43b66a7",
   "metadata": {},
   "outputs": [],
   "source": [
    "import pandas as pd\n",
    "f = open('python.txt')"
   ]
  },
  {
   "cell_type": "code",
   "execution_count": 66,
   "id": "88b572e7",
   "metadata": {},
   "outputs": [
    {
     "data": {
      "text/plain": [
       "[]"
      ]
     },
     "execution_count": 66,
     "metadata": {},
     "output_type": "execute_result"
    }
   ],
   "source": [
    "listT = f.readlines()\n",
    "listT"
   ]
  },
  {
   "cell_type": "code",
   "execution_count": 65,
   "id": "76993a57",
   "metadata": {},
   "outputs": [
    {
     "data": {
      "text/plain": [
       "[]"
      ]
     },
     "execution_count": 65,
     "metadata": {},
     "output_type": "execute_result"
    }
   ],
   "source": [
    "listT = f.readlines(4)\n",
    "listT"
   ]
  },
  {
   "cell_type": "code",
   "execution_count": 69,
   "id": "fc78c226",
   "metadata": {},
   "outputs": [
    {
     "data": {
      "text/plain": [
       "['What is Python language?                                                \\n',\n",
       " 'Python is a widely used high-level, general-purpose, interpreted, dynamic programming language.Its design philosophy emphasizes code readability, and its syntax allows programmers to express concepts in fewer lines of code than possible in \\n',\n",
       " 'languages such as C++ or Java. \\n',\n",
       " 'Python supports multiple programming paradigms, including object-oriented, imperative and functional programming or procedural styles. It features a dynamic type system and automatic memory management and has a large and comprehensive standard library.The best way we learn anything is by practice and exercise questions. We  have started this section for those (beginner to intermediate) who are familiar with Python.']"
      ]
     },
     "execution_count": 69,
     "metadata": {},
     "output_type": "execute_result"
    }
   ],
   "source": [
    "listT = f.readlines(-4)\n",
    "listT"
   ]
  },
  {
   "cell_type": "code",
   "execution_count": 50,
   "id": "0cfb2c94",
   "metadata": {},
   "outputs": [
    {
     "data": {
      "text/plain": [
       "100"
      ]
     },
     "execution_count": 50,
     "metadata": {},
     "output_type": "execute_result"
    }
   ],
   "source": [
    "nWords = 0\n",
    "for text in listT:\n",
    "    l = text.split(\" \")\n",
    "    for i in l:\n",
    "        if i!=\"\" and i!='\\n':\n",
    "            nWords+=1\n",
    "nWords"
   ]
  },
  {
   "cell_type": "code",
   "execution_count": null,
   "id": "4d6afa0e",
   "metadata": {},
   "outputs": [],
   "source": []
  }
 ],
 "metadata": {
  "kernelspec": {
   "display_name": "Python 3",
   "language": "python",
   "name": "python3"
  },
  "language_info": {
   "codemirror_mode": {
    "name": "ipython",
    "version": 3
   },
   "file_extension": ".py",
   "mimetype": "text/x-python",
   "name": "python",
   "nbconvert_exporter": "python",
   "pygments_lexer": "ipython3",
   "version": "3.8.8"
  }
 },
 "nbformat": 4,
 "nbformat_minor": 5
}
